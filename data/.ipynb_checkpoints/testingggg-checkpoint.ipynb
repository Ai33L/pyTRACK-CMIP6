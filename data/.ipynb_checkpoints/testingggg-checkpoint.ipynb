{
 "cells": [
  {
   "cell_type": "code",
   "execution_count": 3,
   "metadata": {
    "scrolled": false
   },
   "outputs": [
    {
     "name": "stdout",
     "output_type": "stream",
     "text": [
      "\tName: TRACK_ID\n",
      "\t\tdimensions: ('tracks',)\n",
      "\t\tsize: 532\n",
      "\tName: FIRST_PT\n",
      "\t\tdimensions: ('tracks',)\n",
      "\t\tsize: 532\n",
      "\tName: NUM_PTS\n",
      "\t\tdimensions: ('tracks',)\n",
      "\t\tsize: 532\n",
      "\tName: index\n",
      "\t\tdimensions: ('record',)\n",
      "\t\tsize: 10323\n",
      "\tName: time\n",
      "\t\tdimensions: ('record',)\n",
      "\t\tsize: 10323\n",
      "\tName: longitude\n",
      "\t\tdimensions: ('record',)\n",
      "\t\tsize: 10323\n",
      "\tName: latitude\n",
      "\t\tdimensions: ('record',)\n",
      "\t\tsize: 10323\n",
      "\tName: pressure_sea_level\n",
      "\t\tdimensions: ('record',)\n",
      "\t\tsize: 10323\n"
     ]
    }
   ],
   "source": [
    "from netCDF4 import Dataset\n",
    "import numpy as np\n",
    "\n",
    "filename = 'ff_trs_neg.nc'\n",
    "dataset = Dataset(filename, 'r')\n",
    "nc_vars = [var for var in dataset.variables]\n",
    "\n",
    "#Variable Information\n",
    "for var in nc_vars:\n",
    "    print('\\tName:', var)\n",
    "    print(\"\\t\\tdimensions:\", dataset.variables[var].dimensions)\n",
    "    #print(\"\\t\\tunits:\", dataset.variables[var].units)\n",
    "    print(\"\\t\\tsize:\", dataset.variables[var].size)"
   ]
  },
  {
   "cell_type": "code",
   "execution_count": 9,
   "metadata": {},
   "outputs": [
    {
     "data": {
      "text/plain": [
       "masked_array(data=[  0,  12,  31,  45,  53,  66,  91, 100, 121, 130],\n",
       "             mask=False,\n",
       "       fill_value=999999,\n",
       "            dtype=int32)"
      ]
     },
     "execution_count": 9,
     "metadata": {},
     "output_type": "execute_result"
    }
   ],
   "source": [
    "dataset.variables['FIRST_PT'][0:10]"
   ]
  },
  {
   "cell_type": "code",
   "execution_count": null,
   "metadata": {},
   "outputs": [],
   "source": []
  },
  {
   "cell_type": "code",
   "execution_count": 1,
   "metadata": {},
   "outputs": [],
   "source": [
    "import cf\n",
    "import cfplot as cfp\n"
   ]
  },
  {
   "cell_type": "code",
   "execution_count": 2,
   "metadata": {},
   "outputs": [
    {
     "ename": "TypeError",
     "evalue": "\n\n\ntraj error\nmissing longitudes in the field auxiliary data\nmissing latitudes in the field auxiliary data\n\n\n\n",
     "output_type": "error",
     "traceback": [
      "\u001b[0;31m---------------------------------------------------------------------------\u001b[0m",
      "\u001b[0;31mTypeError\u001b[0m                                 Traceback (most recent call last)",
      "\u001b[0;32m<ipython-input-2-10079d8e5c42>\u001b[0m in \u001b[0;36m<module>\u001b[0;34m\u001b[0m\n\u001b[1;32m      1\u001b[0m \u001b[0mf\u001b[0m\u001b[0;34m=\u001b[0m\u001b[0mcf\u001b[0m\u001b[0;34m.\u001b[0m\u001b[0mread\u001b[0m\u001b[0;34m(\u001b[0m\u001b[0;34m'ff_trs_neg.nc'\u001b[0m\u001b[0;34m)\u001b[0m\u001b[0;34m[\u001b[0m\u001b[0;36m0\u001b[0m\u001b[0;34m]\u001b[0m\u001b[0;34m\u001b[0m\u001b[0;34m\u001b[0m\u001b[0m\n\u001b[0;32m----> 2\u001b[0;31m \u001b[0mcfp\u001b[0m\u001b[0;34m.\u001b[0m\u001b[0mtraj\u001b[0m\u001b[0;34m(\u001b[0m\u001b[0mf\u001b[0m\u001b[0;34m)\u001b[0m\u001b[0;34m\u001b[0m\u001b[0;34m\u001b[0m\u001b[0m\n\u001b[0m",
      "\u001b[0;32m~/.local/lib/python3.7/site-packages/cfplot/cfplot.py\u001b[0m in \u001b[0;36mtraj\u001b[0;34m(f, title, ptype, linestyle, linewidth, linecolor, marker, markevery, markersize, markerfacecolor, markeredgecolor, markeredgewidth, latmax, latmin, axes, xaxis, yaxis, verbose, legend, legend_lines, xlabel, ylabel, xticks, yticks, xticklabels, yticklabels, colorbar, colorbar_position, colorbar_orientation, colorbar_title, colorbar_text_up_down, colorbar_text_down_up, colorbar_drawedges, colorbar_fraction, colorbar_thick, colorbar_anchor, colorbar_shrink, colorbar_labels, vector, head_width, head_length, fc, ec, zorder)\u001b[0m\n\u001b[1;32m   8064\u001b[0m             \u001b[0mmessage\u001b[0m \u001b[0;34m+=\u001b[0m \u001b[0;34m'missing latitudes in the field auxiliary data\\n'\u001b[0m\u001b[0;34m\u001b[0m\u001b[0;34m\u001b[0m\u001b[0m\n\u001b[1;32m   8065\u001b[0m         \u001b[0mmessage\u001b[0m \u001b[0;34m+=\u001b[0m \u001b[0;34m'\\n\\n\\n'\u001b[0m\u001b[0;34m\u001b[0m\u001b[0;34m\u001b[0m\u001b[0m\n\u001b[0;32m-> 8066\u001b[0;31m         \u001b[0;32mraise\u001b[0m \u001b[0mTypeError\u001b[0m\u001b[0;34m(\u001b[0m\u001b[0mmessage\u001b[0m\u001b[0;34m)\u001b[0m\u001b[0;34m\u001b[0m\u001b[0;34m\u001b[0m\u001b[0m\n\u001b[0m\u001b[1;32m   8067\u001b[0m \u001b[0;34m\u001b[0m\u001b[0m\n\u001b[1;32m   8068\u001b[0m \u001b[0;34m\u001b[0m\u001b[0m\n",
      "\u001b[0;31mTypeError\u001b[0m: \n\n\ntraj error\nmissing longitudes in the field auxiliary data\nmissing latitudes in the field auxiliary data\n\n\n\n"
     ]
    }
   ],
   "source": [
    "f=cf.read('ff_trs_neg.nc')[0]\n",
    "cfp.traj(f)"
   ]
  },
  {
   "cell_type": "code",
   "execution_count": null,
   "metadata": {},
   "outputs": [],
   "source": []
  }
 ],
 "metadata": {
  "kernelspec": {
   "display_name": "Python 3",
   "language": "python",
   "name": "python3"
  },
  "language_info": {
   "codemirror_mode": {
    "name": "ipython",
    "version": 3
   },
   "file_extension": ".py",
   "mimetype": "text/x-python",
   "name": "python",
   "nbconvert_exporter": "python",
   "pygments_lexer": "ipython3",
   "version": "3.7.9"
  }
 },
 "nbformat": 4,
 "nbformat_minor": 4
}
